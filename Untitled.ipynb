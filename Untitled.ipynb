{
 "cells": [
  {
   "cell_type": "code",
   "execution_count": 42,
   "metadata": {},
   "outputs": [],
   "source": [
    "import os\n",
    "import tarfile\n",
    "import urllib"
   ]
  },
  {
   "cell_type": "code",
   "execution_count": 43,
   "metadata": {},
   "outputs": [],
   "source": [
    "DL_ROOT = 'https://github.com/ssimmons9212/Concurrency-Assignment/'\n",
    "HOUSE_PATH = os.path.join('datasets','sql_dvd_data')\n",
    "HOUSE_URL= DL_ROOT + 'datasets/sql_dvd_data/ds21.tar.gz'"
   ]
  },
  {
   "cell_type": "code",
   "execution_count": 44,
   "metadata": {},
   "outputs": [],
   "source": [
    "def fetch_HD(house_url=HOUSE_URL, house_path = HOUSE_PATH):\n",
    "    os.makedirs(house_path, exist_ok=True)\n",
    "    tgz_path = os.path.join(house_path, \"ds21.tar.gz\")\n",
    "#     urllib.request.urlretrieve(house_url, tgz_path)\n",
    "    house_tgz=tarfile.open(tgz_path)\n",
    "    house_tgz.extractall(path=house_path)\n",
    "    house_tgz.close()"
   ]
  },
  {
   "cell_type": "code",
   "execution_count": null,
   "metadata": {},
   "outputs": [],
   "source": [
    "import pandas as pd\n",
    "fetch_HD()"
   ]
  },
  {
   "cell_type": "code",
   "execution_count": null,
   "metadata": {},
   "outputs": [],
   "source": []
  }
 ],
 "metadata": {
  "kernelspec": {
   "display_name": "MLFishes",
   "language": "python",
   "name": "mlfishes"
  },
  "language_info": {
   "codemirror_mode": {
    "name": "ipython",
    "version": 3
   },
   "file_extension": ".py",
   "mimetype": "text/x-python",
   "name": "python",
   "nbconvert_exporter": "python",
   "pygments_lexer": "ipython3",
   "version": "3.7.5"
  }
 },
 "nbformat": 4,
 "nbformat_minor": 4
}
